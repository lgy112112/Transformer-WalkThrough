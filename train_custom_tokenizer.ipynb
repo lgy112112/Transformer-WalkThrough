{
 "cells": [
  {
   "cell_type": "code",
   "execution_count": 7,
   "metadata": {},
   "outputs": [
    {
     "name": "stdout",
     "output_type": "stream",
     "text": [
      "The autoreload extension is already loaded. To reload it, use:\n",
      "  %reload_ext autoreload\n"
     ]
    }
   ],
   "source": [
    "%load_ext autoreload\n",
    "%autoreload 2\n",
    "\n",
    "import os\n",
    "import zipfile\n",
    "\n",
    "if not os.path.exists(\"datasets/\"):\n",
    "    with zipfile.ZipFile(\"Multi30K.zip\", \"r\") as zip_ref:\n",
    "        zip_ref.extractall()"
   ]
  },
  {
   "attachments": {},
   "cell_type": "markdown",
   "metadata": {},
   "source": [
    "---\n",
    "\n",
    "## Tokenizer"
   ]
  },
  {
   "cell_type": "code",
   "execution_count": 8,
   "metadata": {},
   "outputs": [],
   "source": [
    "import torch\n",
    "from torch.utils.data import Dataset, DataLoader, random_split\n",
    "from transformer_tokenizer import Tokenizer\n",
    "\n",
    "class Multi30KDataset(Dataset):\n",
    "    def __init__(self, en_file, de_file, en_tokenizer, de_tokenizer):\n",
    "        self.en_tokenizer = en_tokenizer\n",
    "        self.de_tokenizer = de_tokenizer\n",
    "        with open(en_file, 'r', encoding='utf-8') as f:\n",
    "            self.en_lines = f.readlines()\n",
    "        with open(de_file, 'r', encoding='utf-8') as f:\n",
    "            self.de_lines = f.readlines()\n",
    "        assert len(self.en_lines) == len(self.de_lines), \"English and German files must have the same number of lines.\"\n",
    "\n",
    "    def __len__(self):\n",
    "        return len(self.en_lines)\n",
    "\n",
    "    def __getitem__(self, idx):\n",
    "        en_sentence = self.en_lines[idx].strip()\n",
    "        de_sentence = self.de_lines[idx].strip()\n",
    "        en_tokens = self.en_tokenizer.tokenize(en_sentence)\n",
    "        de_tokens = self.de_tokenizer.tokenize(de_sentence)\n",
    "        return torch.tensor(en_tokens), torch.tensor(de_tokens)\n",
    "    \n",
    "def collate_fn(batch):\n",
    "    en_batch, de_batch = zip(*batch)\n",
    "    en_batch = torch.nn.utils.rnn.pad_sequence(en_batch, batch_first=True, padding_value=0)\n",
    "    de_batch = torch.nn.utils.rnn.pad_sequence(de_batch, batch_first=True, padding_value=0)\n",
    "    return en_batch, de_batch\n",
    "\n",
    "en_tokenizer = Tokenizer(vocab_size=10000)\n",
    "de_tokenizer = Tokenizer(vocab_size=10000)\n",
    "\n",
    "with open(\"datasets/train/train.en\", \"r\", encoding=\"utf-8\") as f:\n",
    "    en_lines = f.readlines()\n",
    "    en_tokenizer.fit(en_lines)\n",
    "with open(\"datasets/train/train.de\", \"r\", encoding=\"utf-8\") as f:\n",
    "    de_lines = f.readlines()\n",
    "    de_tokenizer.fit(de_lines)\n",
    "\n",
    "dataset = Multi30KDataset(\n",
    "    en_file=\"datasets/train/train.en\",\n",
    "    de_file=\"datasets/train/train.de\",\n",
    "    en_tokenizer=en_tokenizer,\n",
    "    de_tokenizer=de_tokenizer\n",
    ")\n",
    "\n",
    "train_size = int(0.8 * len(dataset))\n",
    "val_size = int(0.1 * len(dataset))\n",
    "test_size = len(dataset) - train_size - val_size\n",
    "train_dataset, val_dataset, test_dataset = random_split(dataset, [train_size, val_size, test_size])\n",
    "\n",
    "batch_size = 64\n",
    "num_workers = 4\n",
    "train_dataloader = DataLoader(train_dataset, batch_size=batch_size, shuffle=True, collate_fn=collate_fn, num_workers=num_workers)\n",
    "val_dataloader = DataLoader(val_dataset, batch_size=batch_size, shuffle=False, collate_fn=collate_fn, num_workers=num_workers)\n",
    "test_dataloader = DataLoader(test_dataset, batch_size=batch_size, shuffle=False, collate_fn=collate_fn, num_workers=num_workers)\n",
    "\n"
   ]
  },
  {
   "cell_type": "code",
   "execution_count": 9,
   "metadata": {},
   "outputs": [
    {
     "name": "stdout",
     "output_type": "stream",
     "text": [
      "First English Sentence (Token IDs): [2, 23, 32, 6, 90, 66, 162, 423, 5, 3, 0, 0, 0, 0, 0, 0, 0, 0, 0, 0, 0, 0, 0, 0]\n",
      "First English Sentence (Text): <SOS> young girl in pink hat taking pictures. <EOS> <PAD> <PAD> <PAD> <PAD> <PAD> <PAD> <PAD> <PAD> <PAD> <PAD> <PAD> <PAD> <PAD> <PAD>\n",
      "First German Sentence (Token IDs): [2, 5, 177, 25, 9, 7, 6, 328, 106, 9, 68, 447, 4, 3, 0, 0, 0, 0, 0, 0, 0, 0, 0, 0, 0]\n",
      "First German Sentence (Text): <SOS> ein junges mädchen, in einem rosafarbenen hut, macht fotos. <EOS> <PAD> <PAD> <PAD> <PAD> <PAD> <PAD> <PAD> <PAD> <PAD> <PAD> <PAD>\n"
     ]
    }
   ],
   "source": [
    "# 获取一个 batch\n",
    "batch = next(iter(train_dataloader))\n",
    "\n",
    "# 提取英文和德文数据\n",
    "src_batch, tgt_batch = batch\n",
    "\n",
    "# 提取第一对样本\n",
    "first_src_sample = src_batch[0]  # 第一个英文句子的 token ID 序列\n",
    "first_tgt_sample = tgt_batch[0]  # 第一个德文句子的 token ID 序列\n",
    "\n",
    "# 将 token ID 序列转换为自然语言句子\n",
    "first_src_sentence = en_tokenizer.detokenize(first_src_sample.tolist())\n",
    "first_tgt_sentence = de_tokenizer.detokenize(first_tgt_sample.tolist())\n",
    "\n",
    "# 打印结果\n",
    "print(\"First English Sentence (Token IDs):\", first_src_sample.tolist())\n",
    "print(\"First English Sentence (Text):\", first_src_sentence)\n",
    "print(\"First German Sentence (Token IDs):\", first_tgt_sample.tolist())\n",
    "print(\"First German Sentence (Text):\", first_tgt_sentence)"
   ]
  },
  {
   "attachments": {},
   "cell_type": "markdown",
   "metadata": {},
   "source": [
    "---\n",
    "\n",
    "## Preprocess"
   ]
  },
  {
   "cell_type": "code",
   "execution_count": 10,
   "metadata": {},
   "outputs": [
    {
     "name": "stdout",
     "output_type": "stream",
     "text": [
      "Transformer initialized.\n",
      "Source padding index: 0, Target padding index: 0\n",
      "Vocabulary size: 10000\n"
     ]
    }
   ],
   "source": [
    "from transformer import Transformer\n",
    "\n",
    "# 1. Transformer 模型参数\n",
    "vocab_size = en_tokenizer.get_vocab_size()\n",
    "d_model = 512\n",
    "num_heads = 8\n",
    "num_layers = 2\n",
    "d_ff = 2048\n",
    "max_seq_len = 100\n",
    "dropout = 0.1\n",
    "\n",
    "# 2. 填充值索引\n",
    "src_pad_idx = en_tokenizer.pad_token_id\n",
    "tgt_pad_idx = de_tokenizer.pad_token_id\n",
    "\n",
    "# 3. 初始化 Transformer\n",
    "transformer = Transformer(vocab_size, d_model, num_heads, num_layers, d_ff, max_seq_len, dropout)\n",
    "\n",
    "# 打印验证\n",
    "print(f\"Transformer initialized.\")\n",
    "print(f\"Source padding index: {src_pad_idx}, Target padding index: {tgt_pad_idx}\")\n",
    "print(f\"Vocabulary size: {vocab_size}\")\n",
    "\n"
   ]
  },
  {
   "attachments": {},
   "cell_type": "markdown",
   "metadata": {},
   "source": [
    "---\n",
    "\n",
    "## Train"
   ]
  },
  {
   "cell_type": "code",
   "execution_count": 11,
   "metadata": {},
   "outputs": [],
   "source": [
    "import torch\n",
    "import torch.nn as nn\n",
    "import torch.optim as optim\n",
    "from tqdm.auto import tqdm\n",
    "\n",
    "vocab_size = en_tokenizer.get_vocab_size()\n",
    "d_model = 512\n",
    "num_heads = 8\n",
    "num_layers = 6\n",
    "d_ff = 2048\n",
    "max_seq_len = 100\n",
    "dropout = 0.3\n",
    "device = torch.device('cuda:0' if torch.cuda.is_available() else 'cpu')\n",
    "transformer = Transformer(vocab_size, d_model, num_heads, num_layers, d_ff, max_seq_len, dropout).to(device)\n",
    "\n",
    "# 1. 定义损失函数和优化器\n",
    "criterion = nn.CrossEntropyLoss(ignore_index=tgt_pad_idx)  # 忽略填充标记的损失\n",
    "optimizer = optim.AdamW(transformer.parameters(), lr=1e-5)\n",
    "\n",
    "# 2. 定义训练函数\n",
    "def train_epoch(transformer, dataloader, criterion, optimizer, device):\n",
    "    transformer.train()\n",
    "    total_loss = 0\n",
    "    progress_bar = tqdm(dataloader, desc=\"Training\", leave=True)\n",
    "    for batch in progress_bar:\n",
    "        # break\n",
    "        src, tgt = batch\n",
    "        src, tgt = src.to(device), tgt.to(device)\n",
    "        # 修正后的生成掩码\n",
    "        tgt_input = tgt[:, :-1]\n",
    "        tgt_target = tgt[:, 1:]\n",
    "        \n",
    "        # 构造掩码\n",
    "        src_mask = transformer.make_src_mask(src, src_pad_idx)\n",
    "        tgt_mask = transformer.make_trg_mask(tgt_input, tgt_pad_idx)\n",
    "        \n",
    "        # 前向传播\n",
    "        output = transformer(src, tgt_input, src_mask, tgt_mask)\n",
    "        \n",
    "        # 找到每个序列中EOS的位置\n",
    "        eos_positions = (tgt_target == 3).nonzero(as_tuple=True)\n",
    "        \n",
    "        # 处理每个序列\n",
    "        batch_loss = 0\n",
    "        for i in range(tgt_target.size(0)):\n",
    "            # 找到当前序列的EOS位置\n",
    "            eos_idx = eos_positions[1][eos_positions[0] == i]\n",
    "            if eos_idx.numel() > 0:\n",
    "                # 如果找到EOS，截取到EOS位置\n",
    "                seq_len = eos_idx[0] + 1\n",
    "            else:\n",
    "                # 如果没有EOS，使用整个序列\n",
    "                seq_len = tgt_target.size(1)\n",
    "            \n",
    "            # 计算当前序列的损失\n",
    "            seq_output = output[i, :seq_len]\n",
    "            seq_target = tgt_target[i, :seq_len]\n",
    "            loss = criterion(seq_output, seq_target)\n",
    "            batch_loss += loss\n",
    "        \n",
    "        # 平均损失\n",
    "        loss = batch_loss / tgt_target.size(0)\n",
    "        \n",
    "        # 反向传播与优化\n",
    "        optimizer.zero_grad()\n",
    "        loss.backward()\n",
    "        optimizer.step()\n",
    "        total_loss += loss.item()\n",
    "        progress_bar.set_postfix(batch_loss=loss.item())\n",
    "    return total_loss / len(dataloader)\n",
    "\n",
    "# 3. 定义验证函数\n",
    "def validate_epoch(transformer, dataloader, criterion, device):\n",
    "    transformer.eval()  # 切换到评估模式\n",
    "    total_loss = 0\n",
    "    progress_bar = tqdm(dataloader, desc=\"Validation\", leave=True)\n",
    "    with torch.no_grad():\n",
    "        for batch in progress_bar:\n",
    "            src, tgt = batch\n",
    "            src, tgt = src.to(device), tgt.to(device)\n",
    "            # 修正后的生成掩码\n",
    "            tgt_input = tgt[:, :-1]\n",
    "            tgt_target = tgt[:, 1:]\n",
    "            # 构造掩码\n",
    "            src_mask = transformer.make_src_mask(src, src_pad_idx)\n",
    "            tgt_mask = transformer.make_trg_mask(tgt_input, tgt_pad_idx)  # 修正为 tgt_input\n",
    "            # 前向传播\n",
    "            output = transformer(src, tgt_input, src_mask, tgt_mask)\n",
    "            # 找到每个序列中EOS的位置\n",
    "            eos_positions = (tgt_target == 3).nonzero(as_tuple=True)\n",
    "            \n",
    "            # 处理每个序列\n",
    "            batch_loss = 0\n",
    "            for i in range(tgt_target.size(0)):\n",
    "                # 找到当前序列的EOS位置\n",
    "                eos_idx = eos_positions[1][eos_positions[0] == i]\n",
    "                if eos_idx.numel() > 0:\n",
    "                    # 如果找到EOS，截取到EOS位置\n",
    "                    seq_len = eos_idx[0] + 1\n",
    "                else:\n",
    "                    # 如果没有EOS，使用整个序列\n",
    "                    seq_len = tgt_target.size(1)\n",
    "                \n",
    "                # 计算当前序列的损失\n",
    "                seq_output = output[i, :seq_len]\n",
    "                seq_target = tgt_target[i, :seq_len]\n",
    "                loss = criterion(seq_output, seq_target)\n",
    "                batch_loss += loss\n",
    "            \n",
    "            # 平均损失\n",
    "            loss = batch_loss / tgt_target.size(0)\n",
    "            \n",
    "            total_loss += loss.item()\n",
    "            progress_bar.set_postfix(batch_loss=loss.item())\n",
    "    return total_loss / len(dataloader)\n",
    "\n",
    "# 4. 定义训练主循环\n",
    "def train_model(transformer, train_dataloader, val_dataloader, num_epochs, device, pretrain=None):\n",
    "    best_loss = float('inf')\n",
    "    if pretrain:\n",
    "        transformer.load_state_dict(torch.load(pretrain))\n",
    "        print(f\"Loaded pre-trained model from {pretrain}\")\n",
    "    for epoch in range(num_epochs):\n",
    "        print(f\"Epoch {epoch + 1}/{num_epochs}\")\n",
    "        epoch_loss = train_epoch(transformer, train_dataloader, criterion, optimizer, device)\n",
    "        print(f\"Training Loss: {epoch_loss:.4f}\")\n",
    "        val_loss = validate_epoch(transformer, val_dataloader, criterion, device)\n",
    "        if val_loss < best_loss:\n",
    "            best_loss = val_loss\n",
    "            best_state_dict = transformer.state_dict()\n",
    "            print(f\"New best validation loss: {best_loss:.4f} in epoch {epoch + 1}\")\n",
    "        print(f\"Validation Loss: {val_loss:.4f}\")\n",
    "    if best_state_dict:\n",
    "            model_name = f\"best_loss_{val_loss:.4f}_in_{epoch + 1}.pth\"\n",
    "            torch.save(best_state_dict, model_name)\n",
    "            print(f\"Saved model to {model_name}\")\n",
    "\n",
    "# 5. 开始训练\n",
    "transformer = transformer.to(device)\n",
    "pretrain_path = 'transformer.pth'"
   ]
  },
  {
   "cell_type": "code",
   "execution_count": 12,
   "metadata": {},
   "outputs": [
    {
     "name": "stdout",
     "output_type": "stream",
     "text": [
      "Epoch 1/50\n"
     ]
    },
    {
     "data": {
      "application/vnd.jupyter.widget-view+json": {
       "model_id": "d394131abec24d2fa681eec89bdd8e47",
       "version_major": 2,
       "version_minor": 0
      },
      "text/plain": [
       "Training:   0%|          | 0/363 [00:00<?, ?it/s]"
      ]
     },
     "metadata": {},
     "output_type": "display_data"
    },
    {
     "name": "stdout",
     "output_type": "stream",
     "text": [
      "Training Loss: 6.1780\n"
     ]
    },
    {
     "data": {
      "application/vnd.jupyter.widget-view+json": {
       "model_id": "c740f3328b0c4145aa39b425ad3cfd54",
       "version_major": 2,
       "version_minor": 0
      },
      "text/plain": [
       "Validation:   0%|          | 0/46 [00:00<?, ?it/s]"
      ]
     },
     "metadata": {},
     "output_type": "display_data"
    },
    {
     "name": "stdout",
     "output_type": "stream",
     "text": [
      "New best validation loss: 5.0948 in epoch 1\n",
      "Validation Loss: 5.0948\n",
      "Epoch 2/50\n"
     ]
    },
    {
     "data": {
      "application/vnd.jupyter.widget-view+json": {
       "model_id": "7b718c5740774ed6841de5ea92430077",
       "version_major": 2,
       "version_minor": 0
      },
      "text/plain": [
       "Training:   0%|          | 0/363 [00:00<?, ?it/s]"
      ]
     },
     "metadata": {},
     "output_type": "display_data"
    }
   ],
   "source": [
    "train_model(transformer, train_dataloader, val_dataloader, num_epochs=50, device=device, pretrain=None)"
   ]
  },
  {
   "cell_type": "code",
   "execution_count": null,
   "metadata": {},
   "outputs": [],
   "source": [
    "torch.save(transformer.state_dict(), \"transformer.pth\")"
   ]
  },
  {
   "attachments": {},
   "cell_type": "markdown",
   "metadata": {},
   "source": [
    "---\n",
    "\n",
    "## Eval"
   ]
  },
  {
   "cell_type": "code",
   "execution_count": null,
   "metadata": {},
   "outputs": [],
   "source": [
    "transformer.load_state_dict(torch.load('transformer.pth', map_location=device))"
   ]
  },
  {
   "cell_type": "code",
   "execution_count": null,
   "metadata": {},
   "outputs": [],
   "source": [
    "def predict_sample(transformer=transformer, dataloader=train_dataloader, device=torch.device('cuda' if torch.cuda.is_available() else 'cpu')):\n",
    "    transformer.eval()  # 切换到评估模式\n",
    "    with torch.no_grad():  # 禁用梯度计算\n",
    "        src, tgt = batch\n",
    "        src, tgt = src.to(device), tgt.to(device)\n",
    "        # 修正后的生成掩码\n",
    "        tgt_input = tgt[:, :-1]\n",
    "        tgt_target = tgt[:, 1:]\n",
    "        # 构造掩码\n",
    "        src_mask = transformer.make_src_mask(src, src_pad_idx)\n",
    "        tgt_mask = transformer.make_trg_mask(tgt_input, tgt_pad_idx)  # 修正为 tgt_input\n",
    "        # 前向传播\n",
    "        output = transformer(src, tgt_input, src_mask, tgt_mask)\n",
    "        # 调整输出形状以计算损失\n",
    "        output = output.reshape(-1, vocab_size)\n",
    "        tgt_target = tgt_target.reshape(-1)\n",
    "\n",
    "        src_sample = src_batch[0]\n",
    "        tgt_sample = tgt_batch[0]\n",
    "\n",
    "        src_sample_sentence = en_tokenizer.detokenize(src_sample.tolist())\n",
    "        tgt_sample_sentence = de_tokenizer.detokenize(tgt_sample.tolist())\n",
    "\n",
    "        print(\"Source Sentence (Token IDs):\", src_sample.tolist())\n",
    "        print(\"Source Sentence (Text):\", src_sample_sentence)\n",
    "        print(\"Target Sentence (Token IDs):\", tgt_sample.tolist())\n",
    "        print(\"Target Sentence (Text):\", tgt_sample_sentence)\n",
    "\n",
    "        # 提取预测的 token ID 序列\n",
    "        predicted_tokens = output.argmax(dim=-1).cpu().tolist()\n",
    "        eos_index = predicted_tokens.index(3)\n",
    "        predicted_tokens = predicted_tokens[:eos_index + 1]\n",
    "        # 将预测的 token ID 序列还原为自然语言\n",
    "        predicted_sentence = de_tokenizer.detokenize(predicted_tokens)\n",
    "\n",
    "        # 打印结果\n",
    "        print(\"Predicted Tokens:\", predicted_tokens)\n",
    "        print(\"Predicted Sentence:\", predicted_sentence)"
   ]
  },
  {
   "cell_type": "code",
   "execution_count": null,
   "metadata": {},
   "outputs": [],
   "source": [
    "predict_sample()"
   ]
  }
 ],
 "metadata": {
  "kernelspec": {
   "display_name": "Python (base)",
   "language": "python",
   "name": "base"
  },
  "language_info": {
   "codemirror_mode": {
    "name": "ipython",
    "version": 3
   },
   "file_extension": ".py",
   "mimetype": "text/x-python",
   "name": "python",
   "nbconvert_exporter": "python",
   "pygments_lexer": "ipython3",
   "version": "3.10.11"
  }
 },
 "nbformat": 4,
 "nbformat_minor": 2
}
