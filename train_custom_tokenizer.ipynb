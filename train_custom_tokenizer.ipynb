{
 "cells": [
  {
   "cell_type": "code",
   "execution_count": 2,
   "metadata": {},
   "outputs": [],
   "source": [
    "%load_ext autoreload\n",
    "%autoreload 2\n",
    "\n",
    "import os\n",
    "import zipfile\n",
    "\n",
    "if not os.path.exists(\"datasets/\"):\n",
    "    with zipfile.ZipFile(\"Multi30K.zip\", \"r\") as zip_ref:\n",
    "        zip_ref.extractall()"
   ]
  },
  {
   "attachments": {},
   "cell_type": "markdown",
   "metadata": {},
   "source": [
    "---\n",
    "\n",
    "## Tokenizer"
   ]
  },
  {
   "cell_type": "code",
   "execution_count": 3,
   "metadata": {},
   "outputs": [],
   "source": [
    "import torch\n",
    "from torch.utils.data import Dataset, DataLoader, random_split\n",
    "from transformer_tokenizer import Tokenizer\n",
    "\n",
    "class Multi30KDataset(Dataset):\n",
    "    def __init__(self, en_file, de_file, en_tokenizer, de_tokenizer):\n",
    "        self.en_tokenizer = en_tokenizer\n",
    "        self.de_tokenizer = de_tokenizer\n",
    "        with open(en_file, 'r', encoding='utf-8') as f:\n",
    "            self.en_lines = f.readlines()\n",
    "        with open(de_file, 'r', encoding='utf-8') as f:\n",
    "            self.de_lines = f.readlines()\n",
    "        assert len(self.en_lines) == len(self.de_lines), \"English and German files must have the same number of lines.\"\n",
    "\n",
    "    def __len__(self):\n",
    "        return len(self.en_lines)\n",
    "\n",
    "    def __getitem__(self, idx):\n",
    "        en_sentence = self.en_lines[idx].strip()\n",
    "        de_sentence = self.de_lines[idx].strip()\n",
    "        en_tokens = self.en_tokenizer.tokenize(en_sentence)\n",
    "        de_tokens = self.de_tokenizer.tokenize(de_sentence)\n",
    "        return torch.tensor(en_tokens), torch.tensor(de_tokens)\n",
    "    \n",
    "def collate_fn(batch):\n",
    "    en_batch, de_batch = zip(*batch)\n",
    "    en_batch = torch.nn.utils.rnn.pad_sequence(en_batch, batch_first=True, padding_value=0)\n",
    "    de_batch = torch.nn.utils.rnn.pad_sequence(de_batch, batch_first=True, padding_value=0)\n",
    "    return en_batch, de_batch\n",
    "\n",
    "en_tokenizer = Tokenizer(vocab_size=10000)\n",
    "de_tokenizer = Tokenizer(vocab_size=10000)\n",
    "\n",
    "with open(\"datasets/train/train.en\", \"r\", encoding=\"utf-8\") as f:\n",
    "    en_lines = f.readlines()\n",
    "    en_tokenizer.fit(en_lines)\n",
    "with open(\"datasets/train/train.de\", \"r\", encoding=\"utf-8\") as f:\n",
    "    de_lines = f.readlines()\n",
    "    de_tokenizer.fit(de_lines)\n",
    "\n",
    "dataset = Multi30KDataset(\n",
    "    en_file=\"datasets/train/train.en\",\n",
    "    de_file=\"datasets/train/train.de\",\n",
    "    en_tokenizer=en_tokenizer,\n",
    "    de_tokenizer=de_tokenizer\n",
    ")\n",
    "\n",
    "train_size = int(0.8 * len(dataset))\n",
    "val_size = int(0.1 * len(dataset))\n",
    "test_size = len(dataset) - train_size - val_size\n",
    "train_dataset, val_dataset, test_dataset = random_split(dataset, [train_size, val_size, test_size])\n",
    "train_dataloader = DataLoader(train_dataset, batch_size=32, shuffle=True, collate_fn=collate_fn)\n",
    "val_dataloader = DataLoader(val_dataset, batch_size=32, shuffle=False, collate_fn=collate_fn)\n",
    "test_dataloader = DataLoader(test_dataset, batch_size=32, shuffle=False, collate_fn=collate_fn)\n",
    "\n"
   ]
  },
  {
   "cell_type": "code",
   "execution_count": 44,
   "metadata": {},
   "outputs": [
    {
     "name": "stdout",
     "output_type": "stream",
     "text": [
      "First English Sentence (Token IDs): [2, 4, 38, 12, 19, 1711, 12, 2360, 19, 17, 250, 2233, 28, 1196, 12, 154, 17, 118, 18, 164, 71, 5, 3]\n",
      "First English Sentence (Text): <SOS> a group of people consisting of 6 people are waiting somewhere while 4 of them are talking to each other. <EOS>\n",
      "First German Sentence (Token IDs): [2, 8, 6748, 36, 22, 278, 247, 2476, 9, 582, 23, 1944, 22, 205, 290, 185, 4, 3, 0, 0, 0, 0, 0, 0]\n",
      "First German Sentence (Text): <SOS> eine sechsköpfige gruppe von leuten wartet irgendwo, wobei sich 4 von ihnen miteinander unterhalten. <EOS> <PAD> <PAD> <PAD> <PAD> <PAD> <PAD>\n"
     ]
    }
   ],
   "source": [
    "# 获取一个 batch\n",
    "batch = next(iter(train_dataloader))\n",
    "\n",
    "# 提取英文和德文数据\n",
    "src_batch, tgt_batch = batch\n",
    "\n",
    "# 提取第一对样本\n",
    "first_src_sample = src_batch[0]  # 第一个英文句子的 token ID 序列\n",
    "first_tgt_sample = tgt_batch[0]  # 第一个德文句子的 token ID 序列\n",
    "\n",
    "# 将 token ID 序列转换为自然语言句子\n",
    "first_src_sentence = en_tokenizer.detokenize(first_src_sample.tolist())\n",
    "first_tgt_sentence = de_tokenizer.detokenize(first_tgt_sample.tolist())\n",
    "\n",
    "# 打印结果\n",
    "print(\"First English Sentence (Token IDs):\", first_src_sample.tolist())\n",
    "print(\"First English Sentence (Text):\", first_src_sentence)\n",
    "print(\"First German Sentence (Token IDs):\", first_tgt_sample.tolist())\n",
    "print(\"First German Sentence (Text):\", first_tgt_sentence)"
   ]
  },
  {
   "attachments": {},
   "cell_type": "markdown",
   "metadata": {},
   "source": [
    "---\n",
    "\n",
    "## Preprocess"
   ]
  },
  {
   "cell_type": "code",
   "execution_count": 5,
   "metadata": {},
   "outputs": [
    {
     "name": "stdout",
     "output_type": "stream",
     "text": [
      "Transformer initialized.\n",
      "Source padding index: 0, Target padding index: 0\n",
      "Vocabulary size: 10000\n"
     ]
    }
   ],
   "source": [
    "from transformer import Transformer\n",
    "\n",
    "# 1. Transformer 模型参数\n",
    "vocab_size = en_tokenizer.get_vocab_size()\n",
    "d_model = 512\n",
    "num_heads = 8\n",
    "num_layers = 2\n",
    "d_ff = 2048\n",
    "max_seq_len = 100\n",
    "dropout = 0.1\n",
    "\n",
    "# 2. 填充值索引\n",
    "src_pad_idx = en_tokenizer.pad_token_id\n",
    "tgt_pad_idx = de_tokenizer.pad_token_id\n",
    "\n",
    "# 3. 初始化 Transformer\n",
    "transformer = Transformer(vocab_size, d_model, num_heads, num_layers, d_ff, max_seq_len, dropout)\n",
    "\n",
    "# 打印验证\n",
    "print(f\"Transformer initialized.\")\n",
    "print(f\"Source padding index: {src_pad_idx}, Target padding index: {tgt_pad_idx}\")\n",
    "print(f\"Vocabulary size: {vocab_size}\")\n",
    "\n"
   ]
  },
  {
   "attachments": {},
   "cell_type": "markdown",
   "metadata": {},
   "source": [
    "---\n",
    "\n",
    "## Train"
   ]
  },
  {
   "cell_type": "code",
   "execution_count": 6,
   "metadata": {},
   "outputs": [],
   "source": [
    "import torch\n",
    "import torch.nn as nn\n",
    "import torch.optim as optim\n",
    "from tqdm.auto import tqdm\n",
    "\n",
    "vocab_size = en_tokenizer.get_vocab_size()\n",
    "d_model = 512\n",
    "num_heads = 8\n",
    "num_layers = 6\n",
    "d_ff = 2048\n",
    "max_seq_len = 100\n",
    "dropout = 0.3\n",
    "device = torch.device('cuda:0' if torch.cuda.is_available() else 'cpu')\n",
    "transformer = Transformer(vocab_size, d_model, num_heads, num_layers, d_ff, max_seq_len, dropout).to(device)\n",
    "\n",
    "# 1. 定义损失函数和优化器\n",
    "criterion = nn.CrossEntropyLoss(ignore_index=tgt_pad_idx)  # 忽略填充标记的损失\n",
    "optimizer = optim.AdamW(transformer.parameters(), lr=1e-5)\n",
    "\n",
    "# 2. 定义训练函数\n",
    "def train_epoch(transformer, dataloader, criterion, optimizer, device):\n",
    "    transformer.train()  # 切换到训练模式\n",
    "    total_loss = 0\n",
    "    progress_bar = tqdm(dataloader, desc=\"Training\", leave=True)\n",
    "    for batch in progress_bar:\n",
    "        src, tgt = batch\n",
    "        src, tgt = src.to(device), tgt.to(device)\n",
    "        # 修正后的生成掩码\n",
    "        tgt_input = tgt[:, :-1]\n",
    "        tgt_target = tgt[:, 1:]\n",
    "        # 构造掩码\n",
    "        src_mask = transformer.make_src_mask(src, src_pad_idx)\n",
    "        tgt_mask = transformer.make_trg_mask(tgt_input, tgt_pad_idx)  # 修正为 tgt_input\n",
    "        # 前向传播\n",
    "        output = transformer(src, tgt_input, src_mask, tgt_mask)\n",
    "        # 调整输出形状以计算损失\n",
    "        output = output.reshape(-1, vocab_size)\n",
    "        tgt_target = tgt_target.reshape(-1)\n",
    "        # 计算损失\n",
    "        loss = criterion(output, tgt_target)\n",
    "        # 反向传播与优化\n",
    "        optimizer.zero_grad()\n",
    "        loss.backward()\n",
    "        optimizer.step()\n",
    "        total_loss += loss.item()\n",
    "        # 在tqdm进度条中显示当前batch的loss\n",
    "        progress_bar.set_postfix(batch_loss=loss.item())\n",
    "    return total_loss / len(dataloader)\n",
    "\n",
    "# 3. 定义验证函数\n",
    "def validate_epoch(transformer, dataloader, criterion, device):\n",
    "    transformer.eval()  # 切换到评估模式\n",
    "    total_loss = 0\n",
    "    progress_bar = tqdm(dataloader, desc=\"Validation\", leave=True)\n",
    "    with torch.no_grad():\n",
    "        for batch in progress_bar:\n",
    "            src, tgt = batch\n",
    "            src, tgt = src.to(device), tgt.to(device)\n",
    "            # 修正后的生成掩码\n",
    "            tgt_input = tgt[:, :-1]\n",
    "            tgt_target = tgt[:, 1:]\n",
    "            # 构造掩码\n",
    "            src_mask = transformer.make_src_mask(src, src_pad_idx)\n",
    "            tgt_mask = transformer.make_trg_mask(tgt_input, tgt_pad_idx)  # 修正为 tgt_input\n",
    "            # 前向传播\n",
    "            output = transformer(src, tgt_input, src_mask, tgt_mask)\n",
    "            # 调整输出形状以计算损失\n",
    "            output = output.reshape(-1, vocab_size)\n",
    "            tgt_target = tgt_target.reshape(-1)\n",
    "            # 计算损失\n",
    "            loss = criterion(output, tgt_target)\n",
    "            total_loss += loss.item()\n",
    "            # 在tqdm进度条中显示当前batch的loss\n",
    "            progress_bar.set_postfix(batch_loss=loss.item())\n",
    "    return total_loss / len(dataloader)\n",
    "\n",
    "# 4. 定义训练主循环\n",
    "def train_model(transformer, train_dataloader, val_dataloader, num_epochs, device, pretrain=None):\n",
    "    if pretrain:\n",
    "        transformer.load_state_dict(torch.load(pretrain))\n",
    "        print(f\"Loaded pre-trained model from {pretrain}\")\n",
    "    for epoch in range(num_epochs):\n",
    "        print(f\"Epoch {epoch + 1}/{num_epochs}\")\n",
    "        epoch_loss = train_epoch(transformer, train_dataloader, criterion, optimizer, device)\n",
    "        print(f\"Training Loss: {epoch_loss:.4f}\")\n",
    "        val_loss = validate_epoch(transformer, val_dataloader, criterion, device)\n",
    "        print(f\"Validation Loss: {val_loss:.4f}\")\n",
    "\n",
    "# 5. 开始训练\n",
    "transformer = transformer.to(device)\n",
    "pretrain_path = 'transformer.pth'"
   ]
  },
  {
   "cell_type": "code",
   "execution_count": null,
   "metadata": {},
   "outputs": [],
   "source": [
    "train_model(transformer, train_dataloader, val_dataloader, num_epochs=100, device=device, pretrain=None)"
   ]
  },
  {
   "cell_type": "code",
   "execution_count": null,
   "metadata": {},
   "outputs": [],
   "source": [
    "torch.save(transformer.state_dict(), \"transformer.pth\")"
   ]
  },
  {
   "attachments": {},
   "cell_type": "markdown",
   "metadata": {},
   "source": [
    "---\n",
    "\n",
    "## Eval"
   ]
  },
  {
   "cell_type": "code",
   "execution_count": 7,
   "metadata": {},
   "outputs": [
    {
     "data": {
      "text/plain": [
       "<All keys matched successfully>"
      ]
     },
     "execution_count": 7,
     "metadata": {},
     "output_type": "execute_result"
    }
   ],
   "source": [
    "transformer.load_state_dict(torch.load('transformer.pth', map_location=device))"
   ]
  },
  {
   "cell_type": "code",
   "execution_count": 65,
   "metadata": {},
   "outputs": [],
   "source": [
    "def predict_sample(transformer=transformer, dataloader=train_dataloader, device=torch.device('cuda' if torch.cuda.is_available() else 'cpu')):\n",
    "    transformer.eval()  # 切换到评估模式\n",
    "    with torch.no_grad():  # 禁用梯度计算\n",
    "        src, tgt = batch\n",
    "        src, tgt = src.to(device), tgt.to(device)\n",
    "        # 修正后的生成掩码\n",
    "        tgt_input = tgt[:, :-1]\n",
    "        tgt_target = tgt[:, 1:]\n",
    "        # 构造掩码\n",
    "        src_mask = transformer.make_src_mask(src, src_pad_idx)\n",
    "        tgt_mask = transformer.make_trg_mask(tgt_input, tgt_pad_idx)  # 修正为 tgt_input\n",
    "        # 前向传播\n",
    "        output = transformer(src, tgt_input, src_mask, tgt_mask)\n",
    "        # 调整输出形状以计算损失\n",
    "        output = output.reshape(-1, vocab_size)\n",
    "        tgt_target = tgt_target.reshape(-1)\n",
    "\n",
    "        src_sample = src_batch[0]\n",
    "        tgt_sample = tgt_batch[0]\n",
    "\n",
    "        src_sample_sentence = en_tokenizer.detokenize(src_sample.tolist())\n",
    "        tgt_sample_sentence = de_tokenizer.detokenize(tgt_sample.tolist())\n",
    "\n",
    "        print(\"Source Sentence (Token IDs):\", src_sample.tolist())\n",
    "        print(\"Source Sentence (Text):\", src_sample_sentence)\n",
    "        print(\"Target Sentence (Token IDs):\", tgt_sample.tolist())\n",
    "        print(\"Target Sentence (Text):\", tgt_sample_sentence)\n",
    "\n",
    "        # 提取预测的 token ID 序列\n",
    "        predicted_tokens = output.argmax(dim=-1).cpu().tolist()\n",
    "\n",
    "        # 将预测的 token ID 序列还原为自然语言\n",
    "        predicted_sentence = de_tokenizer.detokenize(predicted_tokens)\n",
    "\n",
    "        # 打印结果\n",
    "        print(\"Predicted Tokens:\", predicted_tokens)\n",
    "        print(\"Predicted Sentence:\", predicted_sentence)"
   ]
  },
  {
   "cell_type": "code",
   "execution_count": 66,
   "metadata": {},
   "outputs": [
    {
     "name": "stdout",
     "output_type": "stream",
     "text": [
      "Source Sentence (Token IDs): [2, 4, 38, 12, 19, 1711, 12, 2360, 19, 17, 250, 2233, 28, 1196, 12, 154, 17, 118, 18, 164, 71, 5, 3]\n",
      "Source Sentence (Text): <SOS> a group of people consisting of 6 people are waiting somewhere while 4 of them are talking to each other. <EOS>\n",
      "Target Sentence (Token IDs): [2, 8, 6748, 36, 22, 278, 247, 2476, 9, 582, 23, 1944, 22, 205, 290, 185, 4, 3, 0, 0, 0, 0, 0, 0]\n",
      "Target Sentence (Text): <SOS> eine sechsköpfige gruppe von leuten wartet irgendwo, wobei sich 4 von ihnen miteinander unterhalten. <EOS> <PAD> <PAD> <PAD> <PAD> <PAD> <PAD>\n",
      "Predicted Tokens: [8, 36, 36, 22, 278, 247, 2476, 9, 582, 23, 1944, 22, 205, 290, 185, 4, 3, 290, 4, 4, 4, 4, 4, 8, 16, 11, 6, 472, 29, 47, 24, 63, 10, 146, 100, 496, 4, 3, 4, 4, 4, 4, 4, 4, 4, 4, 73, 907, 7, 1680, 10, 2855, 55, 90, 140, 4, 3, 4, 4, 4, 4, 4, 4, 4, 4, 4, 4, 4, 4, 54, 74, 59, 6, 335, 20, 88, 42, 2485, 4, 3, 4, 4, 4, 4, 4, 4, 4, 4, 4, 4, 4, 4, 18, 486, 12, 6, 351, 280, 167, 650, 4, 3, 3, 4, 4, 4, 4, 4, 4, 4, 4, 4, 4, 4, 4, 43, 1, 7, 1, 14, 1039, 12, 5, 774, 9, 5, 2425, 124, 20, 86, 4, 3, 4, 4, 4, 4, 4, 4, 5, 13, 7, 202, 40, 284, 11, 14, 16, 7, 534, 40, 21, 6, 378, 4, 3, 4, 4, 4, 4, 4, 4, 601, 2601, 27, 6, 236, 10, 2552, 2476, 7, 6403, 4, 3, 4, 4, 4, 4, 4, 4, 4, 4, 4, 4, 4, 17, 1, 1501, 72, 15, 34, 4, 3, 4, 4, 4, 4, 4, 4, 4, 4, 4, 4, 4, 4, 4, 4, 4, 66, 25, 1393, 23, 20, 455, 6236, 4, 3, 4, 4, 4, 4, 4, 4, 4, 4, 4, 4, 4, 4, 4, 4, 5, 13, 11, 6, 296, 184, 5, 286, 7, 15, 110, 22, 14, 16, 9, 17, 23, 12, 14, 3075, 829, 4, 3, 43, 41, 53, 132, 12, 6, 437, 7, 6, 383, 9, 35, 18, 101, 1352, 52, 4, 3, 4, 4, 4, 4, 4, 8, 1179, 10, 8, 272, 16, 7, 1680, 441, 7159, 12, 14, 982, 4, 3, 4, 4, 4, 4, 4, 4, 4, 4, 5, 13, 284, 23, 12, 6, 141, 4, 3, 4, 4, 4, 4, 4, 4, 4, 4, 4, 4, 4, 4, 4, 4, 5, 13, 10, 8, 16, 255, 132, 55, 63, 4, 3, 4, 4, 4, 4, 4, 4, 4, 4, 4, 4, 4, 4, 5, 371, 69, 42, 33, 2725, 4, 3, 4, 4, 4, 4, 4, 4, 4, 4, 4, 4, 4, 4, 4, 4, 4, 8, 232, 183, 16, 425, 23, 11, 6, 1, 12, 15, 34, 4, 3, 4, 4, 4, 4, 4, 4, 4, 4, 4, 15, 70, 11, 15, 2052, 9, 6, 765, 9, 14, 656, 69, 22, 14, 282, 4, 3, 19, 4, 4, 4, 4, 4, 5, 13, 7, 253, 182, 1, 56, 9, 161, 145, 42, 8, 727, 34, 60, 4, 3, 4, 4, 4, 4, 4, 4, 18, 30, 7, 50, 749, 52, 59, 6, 13, 7, 6, 71, 40, 4, 3, 4, 4, 4, 4, 4, 4, 4, 4, 67, 62, 87, 12, 3966, 190, 7, 1083, 4, 3, 3, 3, 3, 3, 3, 3, 3, 3, 3, 3, 3, 3, 3, 5, 13, 11, 718, 1114, 10, 683, 60, 21, 14, 1, 189, 72, 4, 3, 117, 117, 117, 4, 4, 4, 117, 117, 5, 13, 10, 8, 16, 52, 276, 12, 14, 2621, 4, 3, 4, 4, 4, 4, 4, 4, 4, 4, 4, 4, 4, 8, 16, 11, 6, 416, 9, 17, 6, 210, 12, 14, 3272, 1107, 4, 3, 4, 4, 4, 4, 4, 4, 4, 4, 5, 13, 95, 58, 5, 1067, 7, 14, 152, 4, 3, 4, 4, 4, 4, 4, 4, 4, 4, 4, 4, 4, 4, 8, 16, 7, 6, 50, 128, 679, 17, 453, 14, 94, 16, 4, 3, 4, 4, 4, 4, 4, 4, 4, 4, 4, 8, 1016, 2613, 15, 846, 21, 6, 478, 200, 4, 3, 4, 4, 4, 4, 4, 4, 4, 4, 4, 4, 4, 4, 105, 121, 141, 12, 6, 135, 4, 3, 4, 4, 4, 4, 4, 4, 4, 4, 4, 4, 4, 4, 4, 4, 4, 18, 45, 9, 17, 12, 24, 178, 74, 9, 1194, 23, 19, 624, 4, 3, 4, 4, 4, 4, 4, 4, 4, 4, 5, 177, 25, 7, 71, 701, 37, 23, 55, 318, 423, 10, 93, 19, 6327, 4, 3, 423, 4, 4, 4, 4, 4, 8, 67, 146, 9202, 42, 39, 233, 4, 3, 4, 4, 4, 4, 4, 4, 4, 4, 4, 4, 4, 4, 4, 4, 8, 231, 9, 17, 56, 14, 16, 10, 43, 240, 1843, 9, 38, 55, 1, 200, 4, 3, 4, 4, 4, 4, 4]\n",
      "Predicted Sentence: eine gruppe gruppe von leuten wartet irgendwo, wobei sich 4 von ihnen miteinander unterhalten. <EOS> miteinander..... eine frau mit einem schal steht neben dem wasser und blickt nach unten. <EOS>........ leute hängen in badeanzügen und freizeitkleidung am strand herum. <EOS>............ menschen gehen bei einem markt im freien über fliesen. <EOS>............ zwei wanderer auf einem schneebedeckten berg machen pause. <EOS> <EOS>............ drei <UNK> in <UNK> einer gleitet auf ein base, ein weiterer rennt im hintergrund. <EOS>...... ein mann in weißem hemd lehnt mit einer frau in gelbem hemd an einem geländer. <EOS>...... fahrzeug parken vor einem restaurant und tankstelle irgendwo in mexiko. <EOS>........... die <UNK> marschieren entlang der straße. <EOS>............... kleines mädchen will sich im pool abkühlen. <EOS>.............. ein mann mit einem rucksack liest ein buch in der nähe von einer frau, die sich auf einer betonplatte entspannt. <EOS> drei personen sitzen zusammen auf einem sofa in einem haus, während zwei andere daneben stehen. <EOS>..... eine dunkelhaarige und eine blonde frau in badeanzügen trinken cocktails auf einer terrasse. <EOS>........ ein mann lehnt sich auf einem rennen. <EOS>.............. ein mann und eine frau posieren zusammen am wasser. <EOS>............ ein fußballspieler springt über den verteidiger. <EOS>............... eine blau spricht frau unterhält sich mit einem <UNK> auf der straße. <EOS>......... der kleiner mit der hübschen, einem schönen, einer krawatte springt von einer ab. <EOS> einen..... ein mann in anzug sieht <UNK> aus, als er über eine belebte straße geht. <EOS>...... zwei männer in roten oberteilen stehen bei einem mann in einem schwarzen hemd. <EOS>........ person fährt fahrrad auf unbefestigtem weg in waldgebiet. <EOS> <EOS> <EOS> <EOS> <EOS> <EOS> <EOS> <EOS> <EOS> <EOS> <EOS> <EOS> <EOS> <EOS> ein mann mit orangefarbenem gewand und sandalen geht an einer <UNK> wand entlang. <EOS> vorbei vorbei vorbei... vorbei vorbei ein mann und eine frau stehen oben auf einer konstruktion. <EOS>........... eine frau mit einem schirm, die einem auto auf einer plakatwand folgt. <EOS>........ ein mann schaut durch ein teleskop in einer stadt. <EOS>............ eine frau in einem roten kleid bedeckt die augen einer anderen frau. <EOS>......... eine schöne ansicht der berge an einem verschneiten tag. <EOS>............ vier hunde rennen auf einem feld. <EOS>............... zwei frauen, die auf dem bürgersteig gehen, teilen sich einen regenschirm. <EOS>........ ein junges mädchen in schwarzen stiefeln hält sich am zaun fest und hat einen lolli. <EOS> fest..... eine person blickt ehrfurchtsvoll über das meer. <EOS>.............. eine band, die aus einer frau und drei männern besteht, spielt am <UNK> tag. <EOS>.....\n"
     ]
    }
   ],
   "source": [
    "predict_sample()"
   ]
  },
  {
   "cell_type": "code",
   "execution_count": null,
   "metadata": {},
   "outputs": [],
   "source": []
  }
 ],
 "metadata": {
  "kernelspec": {
   "display_name": "Python (base)",
   "language": "python",
   "name": "base"
  },
  "language_info": {
   "codemirror_mode": {
    "name": "ipython",
    "version": 3
   },
   "file_extension": ".py",
   "mimetype": "text/x-python",
   "name": "python",
   "nbconvert_exporter": "python",
   "pygments_lexer": "ipython3",
   "version": "3.10.11"
  }
 },
 "nbformat": 4,
 "nbformat_minor": 2
}
