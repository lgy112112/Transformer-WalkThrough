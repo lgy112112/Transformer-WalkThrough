{
 "cells": [
  {
   "cell_type": "code",
   "execution_count": 16,
   "metadata": {},
   "outputs": [
    {
     "name": "stdout",
     "output_type": "stream",
     "text": [
      "The autoreload extension is already loaded. To reload it, use:\n",
      "  %reload_ext autoreload\n"
     ]
    }
   ],
   "source": [
    "%load_ext autoreload\n",
    "%autoreload 2\n",
    "\n",
    "import os\n",
    "import zipfile\n",
    "\n",
    "if not os.path.exists(\"datasets/\"):\n",
    "    with zipfile.ZipFile(\"Multi30K.zip\", \"r\") as zip_ref:\n",
    "        zip_ref.extractall()"
   ]
  },
  {
   "cell_type": "code",
   "execution_count": 17,
   "metadata": {},
   "outputs": [
    {
     "name": "stdout",
     "output_type": "stream",
     "text": [
      "English batch shape: torch.Size([64, 30])\n",
      "German batch shape: torch.Size([64, 32])\n",
      "English batch example (tokens): tensor([   101,    138,  10817,  56629,    169,  99345,  10135,  10105,  19642,\n",
      "         10129,    119,    102, 119549, 119549, 119549, 119549, 119549, 119549,\n",
      "        119549, 119549, 119549, 119549, 119549, 119549, 119549, 119549, 119549,\n",
      "        119549, 119549, 119549])\n",
      "German batch example (tokens): tensor([   101,  12210,  15898,    174,  65623,  10329,  10268,  41941,  44271,\n",
      "         16757,  18599,    119,    102, 119549, 119549, 119549, 119549, 119549,\n",
      "        119549, 119549, 119549, 119549, 119549, 119549, 119549, 119549, 119549,\n",
      "        119549, 119549, 119549, 119549, 119549])\n",
      "Decoded English: [CLS] A man riding a bike on the pier. [SEP] <pad> <pad> <pad> <pad> <pad> <pad> <pad> <pad> <pad> <pad> <pad> <pad> <pad> <pad> <pad> <pad> <pad> <pad>\n",
      "Decoded German: [CLS] Ein Mann fährt auf dem Pier Fahrrad. [SEP] <pad> <pad> <pad> <pad> <pad> <pad> <pad> <pad> <pad> <pad> <pad> <pad> <pad> <pad> <pad> <pad> <pad> <pad> <pad>\n"
     ]
    }
   ],
   "source": [
    "from transformers import BertTokenizer\n",
    "import torch\n",
    "from torch.utils.data import Dataset, DataLoader\n",
    "from torch.nn.utils.rnn import pad_sequence\n",
    "\n",
    "# 1. 初始化GPT2 Tokenizer\n",
    "en_tokenizer = BertTokenizer.from_pretrained(\"bert-base-multilingual-cased\")\n",
    "de_tokenizer = BertTokenizer.from_pretrained(\"bert-base-multilingual-cased\")\n",
    "\n",
    "# 添加特殊标记\n",
    "special_tokens = {\"bos_token\": \"<sos>\", \"eos_token\": \"<eos>\", \"pad_token\": \"<pad>\"}\n",
    "en_tokenizer.add_special_tokens(special_tokens)\n",
    "de_tokenizer.add_special_tokens(special_tokens)\n",
    "\n",
    "# 2. 自定义数据集\n",
    "class Multi30KDataset(Dataset):\n",
    "    def __init__(self, en_path, de_path, en_tokenizer, de_tokenizer):\n",
    "        self.en_sentences = self._read_file(en_path)\n",
    "        self.de_sentences = self._read_file(de_path)\n",
    "        self.en_tokenizer = en_tokenizer\n",
    "        self.de_tokenizer = de_tokenizer\n",
    "        assert len(self.en_sentences) == len(self.de_sentences), \"数据不匹配！\"\n",
    "\n",
    "    def _read_file(self, path):\n",
    "        with open(path, 'r', encoding='utf-8') as f:\n",
    "            return [line.strip() for line in f]\n",
    "\n",
    "    def __len__(self):\n",
    "        return len(self.en_sentences)\n",
    "\n",
    "    def __getitem__(self, idx):\n",
    "        en_encoded = self.en_tokenizer(\n",
    "            self.en_sentences[idx],\n",
    "            return_tensors=\"pt\",\n",
    "            padding=False,\n",
    "            truncation=True,\n",
    "            add_special_tokens=True,\n",
    "        )[\"input_ids\"].squeeze(0)\n",
    "\n",
    "        de_encoded = self.de_tokenizer(\n",
    "            self.de_sentences[idx],\n",
    "            return_tensors=\"pt\",\n",
    "            padding=False,\n",
    "            truncation=True,\n",
    "            add_special_tokens=True,\n",
    "        )[\"input_ids\"].squeeze(0)\n",
    "\n",
    "        return en_encoded, de_encoded\n",
    "\n",
    "# 3. 定义collate_fn\n",
    "def collate_fn(batch):\n",
    "    en_batch, de_batch = zip(*batch)\n",
    "    en_batch = pad_sequence(en_batch, batch_first=True, padding_value=en_tokenizer.pad_token_id)\n",
    "    de_batch = pad_sequence(de_batch, batch_first=True, padding_value=de_tokenizer.pad_token_id)\n",
    "    return en_batch, de_batch\n",
    "\n",
    "# 4. 初始化数据集和数据加载器\n",
    "en_file_path = 'datasets/train/train.en'\n",
    "de_file_path = 'datasets/train/train.de'\n",
    "\n",
    "dataset = Multi30KDataset(en_file_path, de_file_path, en_tokenizer, de_tokenizer)\n",
    "dataloader = DataLoader(dataset, batch_size=64, shuffle=True, collate_fn=collate_fn)\n",
    "\n",
    "# 5. 测试数据加载器\n",
    "for en_batch, de_batch in dataloader:\n",
    "    print(\"English batch shape:\", en_batch.shape)\n",
    "    print(\"German batch shape:\", de_batch.shape)\n",
    "    print(\"English batch example (tokens):\", en_batch[0])\n",
    "    print(\"German batch example (tokens):\", de_batch[0])\n",
    "    print(\"Decoded English:\", en_tokenizer.decode(en_batch[0]))\n",
    "    print(\"Decoded German:\", de_tokenizer.decode(de_batch[0]))\n",
    "    break\n"
   ]
  },
  {
   "cell_type": "code",
   "execution_count": 18,
   "metadata": {},
   "outputs": [
    {
     "name": "stdout",
     "output_type": "stream",
     "text": [
      "Transformer initialized.\n",
      "Source padding index: 119549, Target padding index: 119549\n",
      "Vocabulary size: 119550\n"
     ]
    }
   ],
   "source": [
    "from transformer import Transformer\n",
    "\n",
    "# 1. Transformer 模型参数\n",
    "vocab_size = len(en_tokenizer)\n",
    "d_model = 512\n",
    "num_heads = 8\n",
    "num_layers = 2\n",
    "d_ff = 2048\n",
    "max_seq_len = 100\n",
    "dropout = 0.1\n",
    "\n",
    "# 2. 填充值索引\n",
    "src_pad_idx = en_tokenizer.pad_token_id\n",
    "tgt_pad_idx = de_tokenizer.pad_token_id\n",
    "\n",
    "# 3. 初始化 Transformer\n",
    "transformer = Transformer(vocab_size, d_model, num_heads, num_layers, d_ff, max_seq_len, dropout)\n",
    "\n",
    "# 打印验证\n",
    "print(f\"Transformer initialized.\")\n",
    "print(f\"Source padding index: {src_pad_idx}, Target padding index: {tgt_pad_idx}\")\n",
    "print(f\"Vocabulary size: {vocab_size}\")\n",
    "\n"
   ]
  },
  {
   "cell_type": "code",
   "execution_count": 19,
   "metadata": {},
   "outputs": [],
   "source": [
    "import torch\n",
    "import torch.nn as nn\n",
    "import torch.optim as optim\n",
    "from tqdm import tqdm\n",
    "\n",
    "device = torch.device('cuda:0' if torch.cuda.is_available() else 'cpu')\n",
    "\n",
    "# 1. 定义损失函数和优化器\n",
    "criterion = nn.CrossEntropyLoss(ignore_index=tgt_pad_idx)  # 忽略填充标记的损失\n",
    "optimizer = optim.AdamW(transformer.parameters(), lr=0.0001)\n",
    "num_epochs = 30\n",
    "\n",
    "# 2. 定义训练函数\n",
    "def train_epoch(transformer, dataloader, criterion, optimizer, device):\n",
    "    transformer.train()  # 切换到训练模式\n",
    "    total_loss = 0\n",
    "\n",
    "    progress_bar = tqdm(dataloader, desc=\"Training\")\n",
    "    for batch in progress_bar:\n",
    "        src, tgt = batch\n",
    "        src, tgt = src.to(device), tgt.to(device)\n",
    "        \n",
    "        # 修正后的生成掩码\n",
    "        tgt_input = tgt[:, :-1]\n",
    "        tgt_target = tgt[:, 1:]\n",
    "\n",
    "        # 构造掩码\n",
    "        src_mask = transformer.make_src_mask(src, src_pad_idx)\n",
    "        tgt_mask = transformer.make_trg_mask(tgt_input, tgt_pad_idx)  # 修正为 tgt_input\n",
    "\n",
    "        # 前向传播\n",
    "        output = transformer(src, tgt_input, src_mask, tgt_mask)\n",
    "\n",
    "        # 调整输出形状以计算损失\n",
    "        output = output.reshape(-1, vocab_size)\n",
    "        tgt_target = tgt_target.reshape(-1)\n",
    "\n",
    "        # 计算损失\n",
    "        loss = criterion(output, tgt_target)\n",
    "\n",
    "        # 反向传播与优化\n",
    "        optimizer.zero_grad()\n",
    "        loss.backward()\n",
    "        optimizer.step()\n",
    "\n",
    "        total_loss += loss.item()\n",
    "        \n",
    "        # 在tqdm进度条中显示当前batch的loss\n",
    "        progress_bar.set_postfix(batch_loss=loss.item())\n",
    "\n",
    "    return total_loss / len(dataloader)\n",
    "\n",
    "# 3. 定义训练主循环\n",
    "def train_model(transformer, dataloader, num_epochs, device, pretrain=None):\n",
    "    if pretrain:\n",
    "        transformer.load_state_dict(torch.load(pretrain))\n",
    "        print(f\"Loaded pre-trained model from {pretrain}\")\n",
    "    \n",
    "    for epoch in range(num_epochs):\n",
    "        print(f\"Epoch {epoch + 1}/{num_epochs}\")\n",
    "        epoch_loss = train_epoch(transformer, dataloader, criterion, optimizer, device)\n",
    "        print(f\"Epoch Loss: {epoch_loss:.4f}\")\n",
    "\n",
    "# 4. 开始训练\n",
    "transformer = transformer.to(device)\n",
    "pretrain_path = '/path/to/pretrained/model.pth'\n",
    "train_model(transformer, dataloader, num_epochs, device, pretrain=None)"
   ]
  },
  {
   "cell_type": "code",
   "execution_count": 20,
   "metadata": {},
   "outputs": [
    {
     "name": "stdout",
     "output_type": "stream",
     "text": [
      "Epoch 1/10\n"
     ]
    },
    {
     "name": "stderr",
     "output_type": "stream",
     "text": [
      "Training:   0%|          | 0/454 [00:00<?, ?it/s]"
     ]
    },
    {
     "name": "stderr",
     "output_type": "stream",
     "text": [
      "Training: 100%|██████████| 454/454 [02:57<00:00,  2.56it/s, batch_loss=3.77]\n"
     ]
    },
    {
     "name": "stdout",
     "output_type": "stream",
     "text": [
      "Epoch Loss: 5.1243\n",
      "Epoch 2/10\n"
     ]
    },
    {
     "name": "stderr",
     "output_type": "stream",
     "text": [
      "Training: 100%|██████████| 454/454 [02:57<00:00,  2.56it/s, batch_loss=2.35]\n"
     ]
    },
    {
     "name": "stdout",
     "output_type": "stream",
     "text": [
      "Epoch Loss: 3.1264\n",
      "Epoch 3/10\n"
     ]
    },
    {
     "name": "stderr",
     "output_type": "stream",
     "text": [
      "Training: 100%|██████████| 454/454 [02:56<00:00,  2.57it/s, batch_loss=2.78]\n"
     ]
    },
    {
     "name": "stdout",
     "output_type": "stream",
     "text": [
      "Epoch Loss: 2.4791\n",
      "Epoch 4/10\n"
     ]
    },
    {
     "name": "stderr",
     "output_type": "stream",
     "text": [
      "Training: 100%|██████████| 454/454 [02:56<00:00,  2.57it/s, batch_loss=1.49]\n"
     ]
    },
    {
     "name": "stdout",
     "output_type": "stream",
     "text": [
      "Epoch Loss: 2.0872\n",
      "Epoch 5/10\n"
     ]
    },
    {
     "name": "stderr",
     "output_type": "stream",
     "text": [
      "Training: 100%|██████████| 454/454 [02:56<00:00,  2.57it/s, batch_loss=1.65]\n"
     ]
    },
    {
     "name": "stdout",
     "output_type": "stream",
     "text": [
      "Epoch Loss: 1.8046\n",
      "Epoch 6/10\n"
     ]
    },
    {
     "name": "stderr",
     "output_type": "stream",
     "text": [
      "Training: 100%|██████████| 454/454 [02:56<00:00,  2.57it/s, batch_loss=1.71]\n"
     ]
    },
    {
     "name": "stdout",
     "output_type": "stream",
     "text": [
      "Epoch Loss: 1.5799\n",
      "Epoch 7/10\n"
     ]
    },
    {
     "name": "stderr",
     "output_type": "stream",
     "text": [
      "Training: 100%|██████████| 454/454 [02:57<00:00,  2.56it/s, batch_loss=1.67]\n"
     ]
    },
    {
     "name": "stdout",
     "output_type": "stream",
     "text": [
      "Epoch Loss: 1.3928\n",
      "Epoch 8/10\n"
     ]
    },
    {
     "name": "stderr",
     "output_type": "stream",
     "text": [
      "Training: 100%|██████████| 454/454 [02:57<00:00,  2.56it/s, batch_loss=0.968]\n"
     ]
    },
    {
     "name": "stdout",
     "output_type": "stream",
     "text": [
      "Epoch Loss: 1.2247\n",
      "Epoch 9/10\n"
     ]
    },
    {
     "name": "stderr",
     "output_type": "stream",
     "text": [
      "Training: 100%|██████████| 454/454 [02:57<00:00,  2.56it/s, batch_loss=0.683]\n"
     ]
    },
    {
     "name": "stdout",
     "output_type": "stream",
     "text": [
      "Epoch Loss: 1.0776\n",
      "Epoch 10/10\n"
     ]
    },
    {
     "name": "stderr",
     "output_type": "stream",
     "text": [
      "Training:  38%|███▊      | 171/454 [01:06<01:56,  2.42it/s, batch_loss=0.96] "
     ]
    }
   ],
   "source": [
    "train_model(transformer, dataloader, num_epochs, device)\n"
   ]
  },
  {
   "cell_type": "code",
   "execution_count": null,
   "metadata": {},
   "outputs": [],
   "source": [
    "torch.save(transformer.state_dict(), \"transformer.pth\")"
   ]
  },
  {
   "cell_type": "code",
   "execution_count": null,
   "metadata": {},
   "outputs": [
    {
     "name": "stdout",
     "output_type": "stream",
     "text": [
      "Source Sentence: An arts and crafts class paints a project while the teacher oversees and smiles at them.\n",
      "Target Sentence: Eine Kunstklasse malt an einem Projekt und wird von einem lächelnden Lehrer betreut.\n",
      "Predicted Sentence: Ein Familie und undt und einem Klassen und mit von ihnen Klassenächelt Fenster undracht und,eeeeeeeeeeeeeeeeeee\n"
     ]
    }
   ],
   "source": [
    "import torch\n",
    "\n",
    "# 修正拼写错误\n",
    "transformer.load_state_dict(torch.load(\"transformer.pth\", map_location=torch.device('cpu')))\n",
    "transformer.eval()  # 切换到评估模式\n",
    "\n",
    "with torch.no_grad():\n",
    "    for batch in dataloader:\n",
    "        src, tgt = batch\n",
    "        src, tgt = src.to(device), tgt.to(device)\n",
    "        \n",
    "        # 修正后的生成掩码\n",
    "        tgt_input = tgt[:, :-1]\n",
    "        tgt_target = tgt[:, 1:]\n",
    "\n",
    "        # 构造掩码\n",
    "        src_mask = transformer.make_src_mask(src, src_pad_idx)\n",
    "        tgt_mask = transformer.make_trg_mask(tgt_input, tgt_pad_idx)  # 修正为 tgt_input\n",
    "\n",
    "        # 前向传播\n",
    "        output = transformer(src, tgt_input, src_mask, tgt_mask)\n",
    "\n",
    "        # 获取预测结果\n",
    "        output = output.argmax(dim=-1)\n",
    "\n",
    "        # 显示原始句子和预测句子\n",
    "        print(\"Source Sentence:\", en_tokenizer.decode(src[0], skip_special_tokens=True))\n",
    "        print(\"Target Sentence:\", de_tokenizer.decode(tgt[0], skip_special_tokens=True))\n",
    "        print(\"Predicted Sentence:\", de_tokenizer.decode(output[0], skip_special_tokens=True))\n",
    "        break"
   ]
  },
  {
   "cell_type": "code",
   "execution_count": null,
   "metadata": {},
   "outputs": [
    {
     "name": "stdout",
     "output_type": "stream",
     "text": [
      "Source Sentence: fuck you.\n",
      "Predicted Sentence: ##ränköpfen auf.. aus...........................\n"
     ]
    }
   ],
   "source": [
    "sentence = \"fuck you.\"\n",
    "transformer.eval()  # 切换到评估模式\n",
    "with torch.no_grad():\n",
    "    # 将自定义句子进行编码\n",
    "    src = en_tokenizer.encode(sentence, return_tensors='pt').to(device)\n",
    "    \n",
    "    # 构造目标输入和目标掩码\n",
    "    tgt_input = torch.tensor([[de_tokenizer.bos_token_id]], device=device)  # 目标输入以BOS开始\n",
    "    src_mask = transformer.make_src_mask(src, src_pad_idx)\n",
    "    \n",
    "    # 逐步生成目标序列\n",
    "    for _ in range(100):  # 假设最大生成长度为100\n",
    "        tgt_mask = transformer.make_trg_mask(tgt_input, tgt_pad_idx)\n",
    "        output = transformer(src, tgt_input, src_mask, tgt_mask)\n",
    "        next_token = output[:, -1, :].argmax(dim=-1, keepdim=True)\n",
    "        tgt_input = torch.cat([tgt_input, next_token], dim=-1)\n",
    "        if next_token.item() == de_tokenizer.eos_token_id:\n",
    "            break\n",
    "    \n",
    "    # 获取预测结果\n",
    "    output_sentence = de_tokenizer.decode(tgt_input[0], skip_special_tokens=True)\n",
    "    \n",
    "    # 显示原始句子和预测句子\n",
    "    print(\"Source Sentence:\", sentence)\n",
    "    print(\"Predicted Sentence:\", output_sentence)\n"
   ]
  },
  {
   "cell_type": "markdown",
   "metadata": {},
   "source": [
    "---\n",
    "\n",
    "观察👀：\n",
    "\n",
    "1. 预测的句子的首字母总是缺少，我猜测是GPT2分词器的缘故\n",
    "2. 翻译的句子末尾总会有乱码一样的幻觉，可能也是分词器？\n",
    "\n",
    "我将使用BERT分词器尝试\n",
    "\n",
    "使用"
   ]
  },
  {
   "cell_type": "code",
   "execution_count": null,
   "metadata": {},
   "outputs": [],
   "source": []
  }
 ],
 "metadata": {
  "kernelspec": {
   "display_name": "Python 3",
   "language": "python",
   "name": "python3"
  },
  "language_info": {
   "codemirror_mode": {
    "name": "ipython",
    "version": 3
   },
   "file_extension": ".py",
   "mimetype": "text/x-python",
   "name": "python",
   "nbconvert_exporter": "python",
   "pygments_lexer": "ipython3",
   "version": "3.10.11"
  }
 },
 "nbformat": 4,
 "nbformat_minor": 2
}
