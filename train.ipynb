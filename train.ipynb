{
 "cells": [
  {
   "cell_type": "code",
   "execution_count": 1,
   "metadata": {},
   "outputs": [],
   "source": [
    "%load_ext autoreload\n",
    "%autoreload 2\n",
    "\n",
    "import os\n",
    "import zipfile\n",
    "\n",
    "if not os.path.exists(\"datasets/\"):\n",
    "    with zipfile.ZipFile(\"Multi30K.zip\", \"r\") as zip_ref:\n",
    "        zip_ref.extractall()"
   ]
  },
  {
   "cell_type": "code",
   "execution_count": 2,
   "metadata": {},
   "outputs": [
    {
     "name": "stdout",
     "output_type": "stream",
     "text": [
      "English batch shape: torch.Size([64, 31])\n",
      "German batch shape: torch.Size([64, 44])\n",
      "English batch example (tokens): tensor([  101, 12136, 17416, 14879, 15228, 10135, 12962, 10135, 15365, 10106,\n",
      "          169, 12249, 10111, 25520, 11570,   119,   102,     0,     0,     0,\n",
      "            0,     0,     0,     0,     0,     0,     0,     0,     0,     0,\n",
      "            0])\n",
      "German batch example (tokens): tensor([  101, 12210, 61694, 10237, 91982, 32380, 10129, 15898, 28508, 10106,\n",
      "        10599, 12158,   118,   112,   182,   112,   118, 22304,   118, 11928,\n",
      "        12962, 73053, 10329, 10599, 67643,   119,   102,     0,     0,     0,\n",
      "            0,     0,     0,     0,     0,     0,     0,     0,     0,     0,\n",
      "            0,     0,     0,     0])\n",
      "Decoded English: [CLS] White male playing guitar on live on stage in a rock and roll band. [SEP] [PAD] [PAD] [PAD] [PAD] [PAD] [PAD] [PAD] [PAD] [PAD] [PAD] [PAD] [PAD] [PAD] [PAD]\n",
      "Decoded German: [CLS] Ein hellhäutiger Mann spielt in einer Rock -'n'- Roll - Band live Gitarre auf einer Bühne. [SEP] [PAD] [PAD] [PAD] [PAD] [PAD] [PAD] [PAD] [PAD] [PAD] [PAD] [PAD] [PAD] [PAD] [PAD] [PAD] [PAD] [PAD]\n"
     ]
    }
   ],
   "source": [
    "from transformers import BertTokenizer\n",
    "import torch\n",
    "from torch.utils.data import Dataset, DataLoader\n",
    "from torch.nn.utils.rnn import pad_sequence\n",
    "\n",
    "# 1. 初始化GPT2 Tokenizer\n",
    "en_tokenizer = BertTokenizer.from_pretrained(\"bert-base-multilingual-cased\")\n",
    "de_tokenizer = BertTokenizer.from_pretrained(\"bert-base-multilingual-cased\")\n",
    "\n",
    "# 添加特殊标记\n",
    "# special_tokens = {\"bos_token\": \"<sos>\", \"eos_token\": \"<eos>\", \"pad_token\": \"<pad>\"}\n",
    "# en_tokenizer.add_special_tokens(special_tokens)\n",
    "# de_tokenizer.add_special_tokens(special_tokens)\n",
    "\n",
    "# 2. 自定义数据集\n",
    "class Multi30KDataset(Dataset):\n",
    "    def __init__(self, en_path, de_path, en_tokenizer, de_tokenizer):\n",
    "        self.en_sentences = self._read_file(en_path)\n",
    "        self.de_sentences = self._read_file(de_path)\n",
    "        self.en_tokenizer = en_tokenizer\n",
    "        self.de_tokenizer = de_tokenizer\n",
    "        assert len(self.en_sentences) == len(self.de_sentences), \"数据不匹配！\"\n",
    "\n",
    "    def _read_file(self, path):\n",
    "        with open(path, 'r', encoding='utf-8') as f:\n",
    "            return [line.strip() for line in f]\n",
    "\n",
    "    def __len__(self):\n",
    "        return len(self.en_sentences)\n",
    "\n",
    "    def __getitem__(self, idx):\n",
    "        en_encoded = self.en_tokenizer(\n",
    "            self.en_sentences[idx],\n",
    "            return_tensors=\"pt\",\n",
    "            padding=False,\n",
    "            truncation=True,\n",
    "            add_special_tokens=True,\n",
    "        )[\"input_ids\"].squeeze(0)\n",
    "\n",
    "        de_encoded = self.de_tokenizer(\n",
    "            self.de_sentences[idx],\n",
    "            return_tensors=\"pt\",\n",
    "            padding=False,\n",
    "            truncation=True,\n",
    "            add_special_tokens=True,\n",
    "        )[\"input_ids\"].squeeze(0)\n",
    "\n",
    "        return en_encoded, de_encoded\n",
    "\n",
    "# 3. 定义collate_fn\n",
    "def collate_fn(batch):\n",
    "    en_batch, de_batch = zip(*batch)\n",
    "    en_batch = pad_sequence(en_batch, batch_first=True, padding_value=en_tokenizer.pad_token_id)\n",
    "    de_batch = pad_sequence(de_batch, batch_first=True, padding_value=de_tokenizer.pad_token_id)\n",
    "    return en_batch, de_batch\n",
    "\n",
    "# 4. 初始化数据集和数据加载器\n",
    "en_file_path = 'datasets/train/train.en'\n",
    "de_file_path = 'datasets/train/train.de'\n",
    "\n",
    "dataset = Multi30KDataset(en_file_path, de_file_path, en_tokenizer, de_tokenizer)\n",
    "dataloader = DataLoader(dataset, batch_size=64, num_workers=12, pin_memory=True, shuffle=True, collate_fn=collate_fn)\n",
    "\n",
    "# 5. 测试数据加载器\n",
    "for en_batch, de_batch in dataloader:\n",
    "    print(\"English batch shape:\", en_batch.shape)\n",
    "    print(\"German batch shape:\", de_batch.shape)\n",
    "    print(\"English batch example (tokens):\", en_batch[0])\n",
    "    print(\"German batch example (tokens):\", de_batch[0])\n",
    "    print(\"Decoded English:\", en_tokenizer.decode(en_batch[0], skip_special_tokens=False))\n",
    "    print(\"Decoded German:\", de_tokenizer.decode(de_batch[0], skip_special_tokens=False))\n",
    "    break\n"
   ]
  },
  {
   "cell_type": "code",
   "execution_count": 3,
   "metadata": {},
   "outputs": [
    {
     "name": "stdout",
     "output_type": "stream",
     "text": [
      "Transformer initialized.\n",
      "Source padding index: 0, Target padding index: 0\n",
      "Vocabulary size: 119547\n"
     ]
    }
   ],
   "source": [
    "from transformer import Transformer\n",
    "\n",
    "# 1. Transformer 模型参数\n",
    "vocab_size = len(en_tokenizer)\n",
    "d_model = 512\n",
    "num_heads = 8\n",
    "num_layers = 2\n",
    "d_ff = 2048\n",
    "max_seq_len = 100\n",
    "dropout = 0.1\n",
    "\n",
    "# 2. 填充值索引\n",
    "src_pad_idx = en_tokenizer.pad_token_id\n",
    "tgt_pad_idx = de_tokenizer.pad_token_id\n",
    "\n",
    "# 3. 初始化 Transformer\n",
    "transformer = Transformer(vocab_size, d_model, num_heads, num_layers, d_ff, max_seq_len, dropout)\n",
    "\n",
    "# 打印验证\n",
    "print(f\"Transformer initialized.\")\n",
    "print(f\"Source padding index: {src_pad_idx}, Target padding index: {tgt_pad_idx}\")\n",
    "print(f\"Vocabulary size: {vocab_size}\")\n",
    "\n"
   ]
  },
  {
   "cell_type": "code",
   "execution_count": 4,
   "metadata": {},
   "outputs": [],
   "source": [
    "import torch\n",
    "import torch.nn as nn\n",
    "import torch.optim as optim\n",
    "from tqdm import tqdm\n",
    "\n",
    "device = torch.device('cuda:0' if torch.cuda.is_available() else 'cpu')\n",
    "\n",
    "# 1. 定义损失函数和优化器\n",
    "criterion = nn.CrossEntropyLoss(ignore_index=tgt_pad_idx)  # 忽略填充标记的损失\n",
    "optimizer = optim.AdamW(transformer.parameters(), lr=0.0001)\n",
    "num_epochs = 5\n",
    "\n",
    "# 2. 定义训练函数\n",
    "def train_epoch(transformer, dataloader, criterion, optimizer, device):\n",
    "    transformer.train()  # 切换到训练模式\n",
    "    total_loss = 0\n",
    "\n",
    "    progress_bar = tqdm(dataloader, desc=\"Training\")\n",
    "    for batch in progress_bar:\n",
    "        src, tgt = batch\n",
    "        src, tgt = src.to(device), tgt.to(device)\n",
    "        \n",
    "        # 修正后的生成掩码\n",
    "        tgt_input = tgt[:, :-1]\n",
    "        tgt_target = tgt[:, 1:]\n",
    "\n",
    "        # 构造掩码\n",
    "        src_mask = transformer.make_src_mask(src, src_pad_idx)\n",
    "        tgt_mask = transformer.make_trg_mask(tgt_input, tgt_pad_idx)  # 修正为 tgt_input\n",
    "\n",
    "        # 前向传播\n",
    "        output = transformer(src, tgt_input, src_mask, tgt_mask)\n",
    "\n",
    "        # 调整输出形状以计算损失\n",
    "        output = output.reshape(-1, vocab_size)\n",
    "        tgt_target = tgt_target.reshape(-1)\n",
    "\n",
    "        # 计算损失\n",
    "        loss = criterion(output, tgt_target)\n",
    "\n",
    "        # 反向传播与优化\n",
    "        optimizer.zero_grad()\n",
    "        loss.backward()\n",
    "        optimizer.step()\n",
    "\n",
    "        total_loss += loss.item()\n",
    "        \n",
    "        # 在tqdm进度条中显示当前batch的loss\n",
    "        progress_bar.set_postfix(batch_loss=loss.item())\n",
    "\n",
    "    return total_loss / len(dataloader)\n",
    "\n",
    "# 3. 定义训练主循环\n",
    "def train_model(transformer, dataloader, num_epochs, device, pretrain=None):\n",
    "    if pretrain:\n",
    "        transformer.load_state_dict(torch.load(pretrain))\n",
    "        print(f\"Loaded pre-trained model from {pretrain}\")\n",
    "    \n",
    "    for epoch in range(num_epochs):\n",
    "        print(f\"Epoch {epoch + 1}/{num_epochs}\")\n",
    "        epoch_loss = train_epoch(transformer, dataloader, criterion, optimizer, device)\n",
    "        print(f\"Epoch Loss: {epoch_loss:.4f}\")\n",
    "\n",
    "# 4. 开始训练\n",
    "transformer = transformer.to(device)\n",
    "pretrain_path = 'transformer.pth'"
   ]
  },
  {
   "cell_type": "code",
   "execution_count": 5,
   "metadata": {},
   "outputs": [
    {
     "name": "stdout",
     "output_type": "stream",
     "text": [
      "Epoch 1/5\n"
     ]
    },
    {
     "name": "stderr",
     "output_type": "stream",
     "text": [
      "Training:   0%|          | 0/454 [00:00<?, ?it/s]"
     ]
    },
    {
     "name": "stderr",
     "output_type": "stream",
     "text": [
      "Training: 100%|██████████| 454/454 [01:29<00:00,  5.05it/s, batch_loss=3.83]\n"
     ]
    },
    {
     "name": "stdout",
     "output_type": "stream",
     "text": [
      "Epoch Loss: 5.1123\n",
      "Epoch 2/5\n"
     ]
    },
    {
     "name": "stderr",
     "output_type": "stream",
     "text": [
      "Training: 100%|██████████| 454/454 [01:31<00:00,  4.97it/s, batch_loss=2.68]\n"
     ]
    },
    {
     "name": "stdout",
     "output_type": "stream",
     "text": [
      "Epoch Loss: 3.1154\n",
      "Epoch 3/5\n"
     ]
    },
    {
     "name": "stderr",
     "output_type": "stream",
     "text": [
      "Training: 100%|██████████| 454/454 [01:31<00:00,  4.94it/s, batch_loss=2.4] \n"
     ]
    },
    {
     "name": "stdout",
     "output_type": "stream",
     "text": [
      "Epoch Loss: 2.4791\n",
      "Epoch 4/5\n"
     ]
    },
    {
     "name": "stderr",
     "output_type": "stream",
     "text": [
      "Training: 100%|██████████| 454/454 [01:31<00:00,  4.94it/s, batch_loss=1.78]\n"
     ]
    },
    {
     "name": "stdout",
     "output_type": "stream",
     "text": [
      "Epoch Loss: 2.0926\n",
      "Epoch 5/5\n"
     ]
    },
    {
     "name": "stderr",
     "output_type": "stream",
     "text": [
      "Training: 100%|██████████| 454/454 [01:31<00:00,  4.96it/s, batch_loss=1.35]"
     ]
    },
    {
     "name": "stdout",
     "output_type": "stream",
     "text": [
      "Epoch Loss: 1.8131\n"
     ]
    },
    {
     "name": "stderr",
     "output_type": "stream",
     "text": [
      "\n"
     ]
    }
   ],
   "source": [
    "train_model(transformer, dataloader, num_epochs, device, pretrain=None)\n"
   ]
  },
  {
   "cell_type": "code",
   "execution_count": 6,
   "metadata": {},
   "outputs": [],
   "source": [
    "torch.save(transformer.state_dict(), \"transformer.pth\")"
   ]
  },
  {
   "cell_type": "code",
   "execution_count": 14,
   "metadata": {},
   "outputs": [
    {
     "name": "stdout",
     "output_type": "stream",
     "text": [
      "Source Sentence: A group of children outside a building includes a boy jumping in the grass.\n",
      "Target Sentence: [CLS] Eine Gruppe Kinder vor einem Gebäude, darunter ein Junge, der im Gras springt. [SEP] [PAD] [PAD] [PAD] [PAD] [PAD] [PAD] [PAD] [PAD] [PAD] [PAD] [PAD] [PAD] [PAD]\n",
      "Predicted Sentence: Eine Gruppe Kinder vor einem Gebäude, der ein Junge spring der im Gras springt. [SEP].eee [SEP] [SEP] [SEP] [SEP] [SEP] [SEP] [SEP] [SEP] [SEP]\n"
     ]
    }
   ],
   "source": [
    "import torch\n",
    "\n",
    "# 修正拼写错误\n",
    "transformer.load_state_dict(torch.load(\"transformer.pth\", map_location=torch.device('cpu')))\n",
    "transformer.eval()  # 切换到评估模式\n",
    "\n",
    "with torch.no_grad():\n",
    "    for batch in dataloader:\n",
    "        src, tgt = batch\n",
    "        src, tgt = src.to(device), tgt.to(device)\n",
    "        \n",
    "        # 修正后的生成掩码\n",
    "        tgt_input = tgt[:, :-1]\n",
    "        tgt_target = tgt[:, 1:]\n",
    "\n",
    "        # 构造掩码\n",
    "        src_mask = transformer.make_src_mask(src, src_pad_idx)\n",
    "        tgt_mask = transformer.make_trg_mask(tgt_input, tgt_pad_idx)  # 修正为 tgt_input\n",
    "\n",
    "        # 前向传播\n",
    "        output = transformer(src, tgt_input, src_mask, tgt_mask)\n",
    "\n",
    "        # 获取预测结果\n",
    "        output = output.argmax(dim=-1)\n",
    "\n",
    "        # 显示原始句子和预测句子\n",
    "        print(\"Source Sentence:\", en_tokenizer.decode(src[0], skip_special_tokens=True, clear_special_tokens=True))\n",
    "        print(\"Target Sentence:\", de_tokenizer.decode(tgt[0], skip_special_tokens=False, clear_special_tokens=True))\n",
    "        print(\"Predicted Sentence:\", de_tokenizer.decode(output[0], skip_special_tokens=False, clear_special_tokens=True))\n",
    "        break"
   ]
  },
  {
   "cell_type": "code",
   "execution_count": 8,
   "metadata": {},
   "outputs": [
    {
     "ename": "RuntimeError",
     "evalue": "Could not infer dtype of NoneType",
     "output_type": "error",
     "traceback": [
      "\u001b[0;31m---------------------------------------------------------------------------\u001b[0m",
      "\u001b[0;31mRuntimeError\u001b[0m                              Traceback (most recent call last)",
      "Cell \u001b[0;32mIn[8], line 8\u001b[0m\n\u001b[1;32m      5\u001b[0m src \u001b[38;5;241m=\u001b[39m en_tokenizer\u001b[38;5;241m.\u001b[39mencode(sentence, return_tensors\u001b[38;5;241m=\u001b[39m\u001b[38;5;124m'\u001b[39m\u001b[38;5;124mpt\u001b[39m\u001b[38;5;124m'\u001b[39m)\u001b[38;5;241m.\u001b[39mto(device)\n\u001b[1;32m      7\u001b[0m \u001b[38;5;66;03m# 构造目标输入和目标掩码\u001b[39;00m\n\u001b[0;32m----> 8\u001b[0m tgt_input \u001b[38;5;241m=\u001b[39m \u001b[43mtorch\u001b[49m\u001b[38;5;241;43m.\u001b[39;49m\u001b[43mtensor\u001b[49m\u001b[43m(\u001b[49m\u001b[43m[\u001b[49m\u001b[43m[\u001b[49m\u001b[43mde_tokenizer\u001b[49m\u001b[38;5;241;43m.\u001b[39;49m\u001b[43mbos_token_id\u001b[49m\u001b[43m]\u001b[49m\u001b[43m]\u001b[49m\u001b[43m,\u001b[49m\u001b[43m \u001b[49m\u001b[43mdevice\u001b[49m\u001b[38;5;241;43m=\u001b[39;49m\u001b[43mdevice\u001b[49m\u001b[43m)\u001b[49m  \u001b[38;5;66;03m# 目标输入以BOS开始\u001b[39;00m\n\u001b[1;32m      9\u001b[0m src_mask \u001b[38;5;241m=\u001b[39m transformer\u001b[38;5;241m.\u001b[39mmake_src_mask(src, src_pad_idx)\n\u001b[1;32m     11\u001b[0m \u001b[38;5;66;03m# 逐步生成目标序列\u001b[39;00m\n",
      "\u001b[0;31mRuntimeError\u001b[0m: Could not infer dtype of NoneType"
     ]
    }
   ],
   "source": [
    "sentence = \"A woman is walking on the street.\"\n",
    "transformer.eval()  # 切换到评估模式\n",
    "with torch.no_grad():\n",
    "    # 将自定义句子进行编码\n",
    "    src = en_tokenizer.encode(sentence, return_tensors='pt').to(device)\n",
    "    \n",
    "    # 构造目标输入和目标掩码\n",
    "    tgt_input = torch.tensor([[de_tokenizer.bos_token_id]], device=device)  # 目标输入以BOS开始\n",
    "    src_mask = transformer.make_src_mask(src, src_pad_idx)\n",
    "    \n",
    "    # 逐步生成目标序列\n",
    "    for _ in range(100):  # 假设最大生成长度为100\n",
    "        tgt_mask = transformer.make_trg_mask(tgt_input, tgt_pad_idx)\n",
    "        output = transformer(src, tgt_input, src_mask, tgt_mask)\n",
    "        next_token = output[:, -1, :].argmax(dim=-1, keepdim=True)\n",
    "        tgt_input = torch.cat([tgt_input, next_token], dim=-1)\n",
    "        if next_token.item() == de_tokenizer.eos_token_id:\n",
    "            break\n",
    "    \n",
    "    # 获取预测结果\n",
    "    output_sentence = de_tokenizer.decode(tgt_input[0], skip_special_tokens=True, clean_up_tokenization_spaces=True)\n",
    "    \n",
    "    # 显示原始句子和预测句子\n",
    "    print(\"Source Sentence:\", sentence)\n",
    "    print(\"Predicted Sentence:\", output_sentence)\n"
   ]
  },
  {
   "cell_type": "markdown",
   "metadata": {},
   "source": [
    "---\n",
    "\n",
    "观察👀：\n",
    "\n",
    "1. 预测的句子的首字母总是缺少，我猜测是GPT2分词器的缘故\n",
    "2. 翻译的句子末尾总会有乱码一样的幻觉，可能也是分词器？\n",
    "\n",
    "我将使用BERT分词器尝试\n",
    "\n",
    "使用BERT之后，句子开头的首字母的缺少的情况解决了\n",
    "\n",
    "但是末尾总会出现乱码，并且使用自定义source sentence的时候总会出现开头的 `##er` 这是GPT2分词器的特征，很奇怪\n",
    "\n"
   ]
  },
  {
   "cell_type": "code",
   "execution_count": null,
   "metadata": {},
   "outputs": [],
   "source": []
  }
 ],
 "metadata": {
  "kernelspec": {
   "display_name": "cloudspace",
   "language": "python",
   "name": "python3"
  },
  "language_info": {
   "codemirror_mode": {
    "name": "ipython",
    "version": 3
   },
   "file_extension": ".py",
   "mimetype": "text/x-python",
   "name": "python",
   "nbconvert_exporter": "python",
   "pygments_lexer": "ipython3",
   "version": "3.10.10"
  }
 },
 "nbformat": 4,
 "nbformat_minor": 2
}
